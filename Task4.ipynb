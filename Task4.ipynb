{
 "cells": [
  {
   "cell_type": "markdown",
   "metadata": {},
   "source": [
    "# task number 4\n"
   ]
  },
  {
   "cell_type": "markdown",
   "metadata": {},
   "source": [
    "## submiting - Elinor Polity 209497825"
   ]
  },
  {
   "cell_type": "code",
   "execution_count": 6,
   "metadata": {},
   "outputs": [],
   "source": [
    "import requests\n",
    "import json\n",
    "import urllib\n",
    "from collections import Counter"
   ]
  },
  {
   "cell_type": "markdown",
   "metadata": {},
   "source": [
    "### Defining the variables and setting url"
   ]
  },
  {
   "cell_type": "code",
   "execution_count": 7,
   "metadata": {
    "scrolled": false
   },
   "outputs": [],
   "source": [
    "address=open(\"C:\\hw4\\dests.txt\",encoding=(\"utf8\"))\n",
    "address=address.read()\n",
    "geocode=[]\n",
    "matrix=[]\n",
    "data=dict()\n",
    "list_of_dirctoris=[]\n",
    "collection=dict()\n",
    "address=address.split(\"\\n\")\n",
    "Serviceurl ='https://maps.googleapis.com/maps/api/distancematrix/json?units=imperial&'\n",
    "url1=\"\"\n",
    "counter=0\n"
   ]
  },
  {
   "cell_type": "markdown",
   "metadata": {},
   "source": [
    "### Request for information from Google servers and retrieval of relevant information\n",
    "## PLEASE ENTER API KEY WHERE ITS WRITEN - \"API_KEY_HERE\""
   ]
  },
  {
   "cell_type": "code",
   "execution_count": 10,
   "metadata": {},
   "outputs": [],
   "source": [
    "for i in address:\n",
    "    parms=dict()\n",
    "    \n",
    "    parms['origins']='תל אביב'\n",
    "    parms['destinations']=i\n",
    "    \n",
    "    #PLEASE ENTER API KEY\n",
    "    parms['key']=\"API_KEY_HERE\"\n",
    "    \n",
    "    url1 = Serviceurl + urllib.parse.urlencode(parms)\n",
    "    url2=\"https://maps.googleapis.com/maps/api/geocode/json?address=%s&key=%s\" % (i,parms['key'])\n",
    "    try:\n",
    "        response1 = requests.get(url1)\n",
    "        response2 = requests.get(url2)\n",
    "        try:\n",
    "            response_data1 = response1.json()\n",
    "            response_data2 = response2.json()\n",
    "            matrix+=[response_data1]\n",
    "            geocode+=[response_data2]\n",
    "            \n",
    "        except:\n",
    "                print(\"Response not in valid JSON format\")\n",
    "    except:\n",
    "        print(\"Something went wrong with requests.get\")\n",
    "    distance=matrix[counter]['rows'][0][\"elements\"][0]['distance']['value']/1000\n",
    "    duration={ 'hours' : matrix[counter]['rows'][0][\"elements\"][0]['duration']['value']/60/60,'minuts' : matrix[counter]['rows'][0][\"elements\"][0]['duration']['value']/60 }\n",
    "    lat=geocode[counter]['results'][0]['geometry']['location']['lat']\n",
    "    lng=geocode[counter]['results'][0]['geometry']['location']['lng']\n",
    "    data[i]=(distance,duration,lat,lng)\n",
    "    counter+=1\n",
    "\n",
    "   \n",
    "    "
   ]
  },
  {
   "cell_type": "markdown",
   "metadata": {},
   "source": [
    "### Organize the information for printing by turning the dictionary data into a json file. Printing the requested data by extracting the relevant information from the dictionary and inseting it into a smaller dictionary"
   ]
  },
  {
   "cell_type": "code",
   "execution_count": 11,
   "metadata": {},
   "outputs": [
    {
     "name": "stdout",
     "output_type": "stream",
     "text": [
      "{\n",
      "          \"איסטנבול\": [\n",
      "                    1814.704,\n",
      "                    {\n",
      "                              \"hours\": 20.535555555555558,\n",
      "                              \"minuts\": 1232.1333333333334\n",
      "                    },\n",
      "                    41.0082376,\n",
      "                    28.9783589\n",
      "          ],\n",
      "          \"אמסטרדם\": [\n",
      "                    4527.793,\n",
      "                    {\n",
      "                              \"hours\": 47.43055555555556,\n",
      "                              \"minuts\": 2845.8333333333335\n",
      "                    },\n",
      "                    52.3675734,\n",
      "                    4.9041389\n",
      "          ],\n",
      "          \"ולטה\": [\n",
      "                    3794.87,\n",
      "                    {\n",
      "                              \"hours\": 50.67527777777778,\n",
      "                              \"minuts\": 3040.516666666667\n",
      "                    },\n",
      "                    35.8989085,\n",
      "                    14.5145528\n",
      "          ],\n",
      "          \"בזל\": [\n",
      "                    4092.496,\n",
      "                    {\n",
      "                              \"hours\": 43.577777777777776,\n",
      "                              \"minuts\": 2614.6666666666665\n",
      "                    },\n",
      "                    47.5595986,\n",
      "                    7.5885761\n",
      "          ],\n",
      "          \"קוטור\": [\n",
      "                    3014.997,\n",
      "                    {\n",
      "                              \"hours\": 35.59777777777778,\n",
      "                              \"minuts\": 2135.866666666667\n",
      "                    },\n",
      "                    42.424662,\n",
      "                    18.771234\n",
      "          ]\n",
      "}\n",
      "-----------------------------------------------------------------\n",
      "The three cities with the longest distances from Tel Aviv are : \n",
      "אמסטרדם\n",
      "בזל\n",
      "ולטה\n"
     ]
    }
   ],
   "source": [
    "json_file=json.dumps(data, ensure_ascii=False, indent=10)\n",
    "print(json_file)\n",
    "for i in data:\n",
    "    collection[i]=data[i][0]\n",
    "from collections import Counter\n",
    "k = Counter(collection)\n",
    "# Finding 3 highest values\n",
    "high = k.most_common(3)\n",
    "print(\"-----------------------------------------------------------------\")\n",
    "print(\"The three cities with the longest distances from Tel Aviv are : \")\n",
    "for i in high:\n",
    "    print(i[0])\n",
    "        "
   ]
  },
  {
   "cell_type": "code",
   "execution_count": null,
   "metadata": {},
   "outputs": [],
   "source": []
  }
 ],
 "metadata": {
  "kernelspec": {
   "display_name": "Python 3",
   "language": "python",
   "name": "python3"
  },
  "language_info": {
   "codemirror_mode": {
    "name": "ipython",
    "version": 3
   },
   "file_extension": ".py",
   "mimetype": "text/x-python",
   "name": "python",
   "nbconvert_exporter": "python",
   "pygments_lexer": "ipython3",
   "version": "3.8.5"
  }
 },
 "nbformat": 4,
 "nbformat_minor": 4
}
